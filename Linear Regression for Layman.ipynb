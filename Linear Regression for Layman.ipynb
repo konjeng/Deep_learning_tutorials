{
  "nbformat": 4,
  "nbformat_minor": 0,
  "metadata": {
    "colab": {
      "name": "Untitled",
      "provenance": [],
      "toc_visible": true,
      "authorship_tag": "ABX9TyPcLbPP6fFWTpC8VX2E5+82",
      "include_colab_link": true
    },
    "kernelspec": {
      "name": "python3",
      "display_name": "Python 3"
    }
  },
  "cells": [
    {
      "cell_type": "markdown",
      "metadata": {
        "id": "view-in-github",
        "colab_type": "text"
      },
      "source": [
        "<a href=\"https://colab.research.google.com/github/konjeng/Deep_learning_tutorials/blob/master/Linear%20Regression%20for%20Layman.ipynb\" target=\"_parent\"><img src=\"https://colab.research.google.com/assets/colab-badge.svg\" alt=\"Open In Colab\"/></a>"
      ]
    },
    {
      "cell_type": "markdown",
      "metadata": {
        "id": "k-Og7Z8f81gY",
        "colab_type": "text"
      },
      "source": [
        "# Liner Regresion\n",
        "\n",
        "---\n",
        "Fit a line from data (X,Y) using eqn \n",
        "\n",
        "y= c (intercept) + mx (slope/coeff)\n",
        "\n",
        "Find values of 'c' and 'm' through gradient decent that gives least error\n",
        "\n",
        "Gradient decent plots the error values/deviations for different values of [c,m] and finds the lowest possible [c,m] where error is minimum"
      ]
    },
    {
      "cell_type": "code",
      "metadata": {
        "id": "w8OOG055lbGm",
        "colab_type": "code",
        "colab": {}
      },
      "source": [
        "#import libraries\n",
        "import pandas as pd\n",
        "import matplotlib.pyplot as plt\n",
        "from sklearn import linear_model"
      ],
      "execution_count": null,
      "outputs": []
    },
    {
      "cell_type": "code",
      "metadata": {
        "id": "nOmorKpLnuKt",
        "colab_type": "code",
        "colab": {}
      },
      "source": [
        "#load dataset\n",
        "data = pd.read_csv('week_1-ex_1.txt')"
      ],
      "execution_count": null,
      "outputs": []
    },
    {
      "cell_type": "code",
      "metadata": {
        "id": "-TQTRDDeqrVI",
        "colab_type": "code",
        "colab": {
          "base_uri": "https://localhost:8080/",
          "height": 255
        },
        "outputId": "075d5728-6d39-4b0e-d17b-0eb994290a7c"
      },
      "source": [
        "data, data.shape"
      ],
      "execution_count": null,
      "outputs": [
        {
          "output_type": "execute_result",
          "data": {
            "text/plain": [
              "(     6.1101    17.592\n",
              " 0    5.5277   9.13020\n",
              " 1    8.5186  13.66200\n",
              " 2    7.0032  11.85400\n",
              " 3    5.8598   6.82330\n",
              " 4    8.3829  11.88600\n",
              " ..      ...       ...\n",
              " 91   5.8707   7.20290\n",
              " 92   5.3054   1.98690\n",
              " 93   8.2934   0.14454\n",
              " 94  13.3940   9.05510\n",
              " 95   5.4369   0.61705\n",
              " \n",
              " [96 rows x 2 columns], (96, 2))"
            ]
          },
          "metadata": {
            "tags": []
          },
          "execution_count": 54
        }
      ]
    },
    {
      "cell_type": "code",
      "metadata": {
        "id": "fx1IrEoAqsEQ",
        "colab_type": "code",
        "colab": {
          "base_uri": "https://localhost:8080/",
          "height": 280
        },
        "outputId": "49f55e20-d681-4874-95fc-26cc34a0e63d"
      },
      "source": [
        "data.plot(kind='scatter',x='6.1101',y='17.592')\n",
        "plt.show()"
      ],
      "execution_count": null,
      "outputs": [
        {
          "output_type": "display_data",
          "data": {
            "image/png": "[encoded data removed]",
            "text/plain": [
              "<Figure size 432x288 with 1 Axes>"
            ]
          },
          "metadata": {
            "tags": [],
            "needs_background": "light"
          }
        }
      ]
    },
    {
      "cell_type": "code",
      "metadata": {
        "id": "R_NFJ7ndqvNM",
        "colab_type": "code",
        "colab": {
          "base_uri": "https://localhost:8080/",
          "height": 266
        },
        "outputId": "2f10727e-f6d9-4158-bd8b-593198e883f2"
      },
      "source": [
        "data.plot(kind='box')\n",
        "plt.show()"
      ],
      "execution_count": null,
      "outputs": [
        {
          "output_type": "display_data",
          "data": {
            "image/png": "[encoded data removed]",
            "text/plain": [
              "<Figure size 432x288 with 1 Axes>"
            ]
          },
          "metadata": {
            "tags": [],
            "needs_background": "light"
          }
        }
      ]
    },
    {
      "cell_type": "markdown",
      "metadata": {
        "id": "FlPycxCju7IG",
        "colab_type": "text"
      },
      "source": [
        "# Corelation Coefficinet\n",
        "Gives idea about slope of the line fit\n",
        "\n",
        "Between 0 and 1 = Positive slope\n",
        "\n",
        "Between 0 and -1 = Negative slope\n",
        "\n",
        "0 = line fit is horizontal\n",
        "\n",
        "MSE(Mean) - MSE(LINE FIT) \n",
        "\n",
        "So, vlues close to 1 have less MSE(LINE FIT)\n",
        "\n"
      ]
    },
    {
      "cell_type": "code",
      "metadata": {
        "id": "KbJUoHxttUn-",
        "colab_type": "code",
        "colab": {
          "base_uri": "https://localhost:8080/",
          "height": 111
        },
        "outputId": "3846194b-adca-414e-c14c-75a056dc0865"
      },
      "source": [
        "data.corr() #corelation coefficinets"
      ],
      "execution_count": null,
      "outputs": [
        {
          "output_type": "execute_result",
          "data": {
            "text/html": [
              "<div>\n",
              "<style scoped>\n",
              "    .dataframe tbody tr th:only-of-type {\n",
              "        vertical-align: middle;\n",
              "    }\n",
              "\n",
              "    .dataframe tbody tr th {\n",
              "        vertical-align: top;\n",
              "    }\n",
              "\n",
              "    .dataframe thead th {\n",
              "        text-align: right;\n",
              "    }\n",
              "</style>\n",
              "<table border=\"1\" class=\"dataframe\">\n",
              "  <thead>\n",
              "    <tr style=\"text-align: right;\">\n",
              "      <th></th>\n",
              "      <th>6.1101</th>\n",
              "      <th>17.592</th>\n",
              "    </tr>\n",
              "  </thead>\n",
              "  <tbody>\n",
              "    <tr>\n",
              "      <th>6.1101</th>\n",
              "      <td>1.000000</td>\n",
              "      <td>0.872157</td>\n",
              "    </tr>\n",
              "    <tr>\n",
              "      <th>17.592</th>\n",
              "      <td>0.872157</td>\n",
              "      <td>1.000000</td>\n",
              "    </tr>\n",
              "  </tbody>\n",
              "</table>\n",
              "</div>"
            ],
            "text/plain": [
              "          6.1101    17.592\n",
              "6.1101  1.000000  0.872157\n",
              "17.592  0.872157  1.000000"
            ]
          },
          "metadata": {
            "tags": []
          },
          "execution_count": 18
        }
      ]
    },
    {
      "cell_type": "code",
      "metadata": {
        "id": "DgoPCIPntlD5",
        "colab_type": "code",
        "colab": {}
      },
      "source": [
        "#Change to dataframe variables\n",
        "population=pd.DataFrame(data['6.1101'])\n",
        "profit = pd.DataFrame(data['17.592'])"
      ],
      "execution_count": null,
      "outputs": []
    },
    {
      "cell_type": "code",
      "metadata": {
        "id": "SV4BWLdrx2DN",
        "colab_type": "code",
        "colab": {}
      },
      "source": [
        "population,profit"
      ],
      "execution_count": null,
      "outputs": []
    },
    {
      "cell_type": "code",
      "metadata": {
        "id": "pBJvEWSHx8QV",
        "colab_type": "code",
        "colab": {}
      },
      "source": [
        "#Build Linear Regression Model\n",
        "lm=linear_model.LinearRegression()\n",
        "model = lm.fit(population,profit)"
      ],
      "execution_count": null,
      "outputs": []
    },
    {
      "cell_type": "code",
      "metadata": {
        "id": "jj58HNwDyp6D",
        "colab_type": "code",
        "colab": {
          "base_uri": "https://localhost:8080/",
          "height": 34
        },
        "outputId": "e6d0e148-1141-4adf-b0ca-84399718d138"
      },
      "source": [
        "model.coef_ #Value of slope with min MSE(FIT)"
      ],
      "execution_count": null,
      "outputs": [
        {
          "output_type": "execute_result",
          "data": {
            "text/plain": [
              "array([[1.21354725]])"
            ]
          },
          "metadata": {
            "tags": []
          },
          "execution_count": 24
        }
      ]
    },
    {
      "cell_type": "code",
      "metadata": {
        "id": "iTgGS_SAyrxj",
        "colab_type": "code",
        "colab": {
          "base_uri": "https://localhost:8080/",
          "height": 34
        },
        "outputId": "d5b862aa-6802-4ee3-ce06-130cba15924c"
      },
      "source": [
        "model.intercept_ #Value of intercept with min MSE(FIT)"
      ],
      "execution_count": null,
      "outputs": [
        {
          "output_type": "execute_result",
          "data": {
            "text/plain": [
              "array([-4.21150401])"
            ]
          },
          "metadata": {
            "tags": []
          },
          "execution_count": 23
        }
      ]
    },
    {
      "cell_type": "code",
      "metadata": {
        "id": "7QAtJF0kyuTs",
        "colab_type": "code",
        "colab": {
          "base_uri": "https://localhost:8080/",
          "height": 34
        },
        "outputId": "0234a017-877f-4c9c-fc78-1e0c168d6d1d"
      },
      "source": [
        "model.score(population,profit) #Evaluate the model"
      ],
      "execution_count": null,
      "outputs": [
        {
          "output_type": "execute_result",
          "data": {
            "text/plain": [
              "0.7606583419339847"
            ]
          },
          "metadata": {
            "tags": []
          },
          "execution_count": 33
        }
      ]
    },
    {
      "cell_type": "code",
      "metadata": {
        "id": "i_MkycmOzVSl",
        "colab_type": "code",
        "colab": {
          "base_uri": "https://localhost:8080/",
          "height": 173
        },
        "outputId": "d7c36c4d-86a0-4732-cfdf-a1807d34a109"
      },
      "source": [
        "#Predict New value\n",
        "Population_new=[7.4,8,6]\n",
        "Population_new=pd.DataFrame(Population_new)\n",
        "#Population_new.reshape(1,-1)\n",
        "profit_new = model.predict(Population_new)\n",
        "profit_new\n",
        "profit_new=pd.DataFrame(profit_new)\n",
        "df=pd.concat([Population_new,profit_new],axis=1,keys=['population_new','profit_predicted'])\n",
        "df"
      ],
      "execution_count": null,
      "outputs": [
        {
          "output_type": "execute_result",
          "data": {
            "text/html": [
              "<div>\n",
              "<style scoped>\n",
              "    .dataframe tbody tr th:only-of-type {\n",
              "        vertical-align: middle;\n",
              "    }\n",
              "\n",
              "    .dataframe tbody tr th {\n",
              "        vertical-align: top;\n",
              "    }\n",
              "\n",
              "    .dataframe thead tr th {\n",
              "        text-align: left;\n",
              "    }\n",
              "</style>\n",
              "<table border=\"1\" class=\"dataframe\">\n",
              "  <thead>\n",
              "    <tr>\n",
              "      <th></th>\n",
              "      <th>population_new</th>\n",
              "      <th>profit_predicted</th>\n",
              "    </tr>\n",
              "    <tr>\n",
              "      <th></th>\n",
              "      <th>0</th>\n",
              "      <th>0</th>\n",
              "    </tr>\n",
              "  </thead>\n",
              "  <tbody>\n",
              "    <tr>\n",
              "      <th>0</th>\n",
              "      <td>7.4</td>\n",
              "      <td>4.768746</td>\n",
              "    </tr>\n",
              "    <tr>\n",
              "      <th>1</th>\n",
              "      <td>8.0</td>\n",
              "      <td>5.496874</td>\n",
              "    </tr>\n",
              "    <tr>\n",
              "      <th>2</th>\n",
              "      <td>6.0</td>\n",
              "      <td>3.069780</td>\n",
              "    </tr>\n",
              "  </tbody>\n",
              "</table>\n",
              "</div>"
            ],
            "text/plain": [
              "  population_new profit_predicted\n",
              "               0                0\n",
              "0            7.4         4.768746\n",
              "1            8.0         5.496874\n",
              "2            6.0         3.069780"
            ]
          },
          "metadata": {
            "tags": []
          },
          "execution_count": 46
        }
      ]
    },
    {
      "cell_type": "code",
      "metadata": {
        "id": "d6A2PCwm5gJL",
        "colab_type": "code",
        "colab": {}
      },
      "source": [
        ""
      ],
      "execution_count": null,
      "outputs": []
    },
    {
      "cell_type": "code",
      "metadata": {
        "id": "dwcOK8Puzj9x",
        "colab_type": "code",
        "colab": {
          "base_uri": "https://localhost:8080/",
          "height": 297
        },
        "outputId": "dfd7f4e9-e596-49a6-c0de-3097bb99a537"
      },
      "source": [
        "#visualize the results\n",
        "#plotting the data\n",
        "data.plot(kind='scatter',x='6.1101',y='17.592')\n",
        "#plotting the regression line\n",
        "plt.plot(population,model.predict(population),color='red',linewidth='2')\n",
        "#plotting the new value\n",
        "plt.scatter(Population_new,profit_new,color='black')\n",
        "plt.plot()"
      ],
      "execution_count": null,
      "outputs": [
        {
          "output_type": "execute_result",
          "data": {
            "text/plain": [
              "[]"
            ]
          },
          "metadata": {
            "tags": []
          },
          "execution_count": 53
        },
        {
          "output_type": "display_data",
          "data": {
            "image/png": "[encoded data removed]",
            "text/plain": [
              "<Figure size 432x288 with 1 Axes>"
            ]
          },
          "metadata": {
            "tags": [],
            "needs_background": "light"
          }
        }
      ]
    },
    {
      "cell_type": "markdown",
      "metadata": {
        "id": "0c-yQ4HB80GP",
        "colab_type": "text"
      },
      "source": [
        ""
      ]
    },
    {
      "cell_type": "code",
      "metadata": {
        "id": "VRvBCfU15V97",
        "colab_type": "code",
        "colab": {}
      },
      "source": [
        ""
      ],
      "execution_count": null,
      "outputs": []
    }
  ]
}